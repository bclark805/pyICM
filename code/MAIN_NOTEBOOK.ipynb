{
 "cells": [
  {
   "cell_type": "markdown",
   "id": "9fa5d176",
   "metadata": {},
   "source": [
    "#  main program for ICM-DOM-PD for python\n",
    "#  a highly modularized code based on Cerco and Coel 1993 estuarine model\n",
    "#  of Chesapeake Bay\n",
    "\n",
    "#  Modified from Clark et al. 2020 to include more complex\n",
    "#  light reactions and photochemistry"
   ]
  },
  {
   "cell_type": "code",
   "execution_count": 24,
   "id": "b3f222fb",
   "metadata": {
    "scrolled": true
   },
   "outputs": [
    {
     "name": "stdout",
     "output_type": "stream",
     "text": [
      "Moved to Directory /Users/jbclark8/Desktop/pyICM\n",
      "Code Directory is /Users/jbclark8/Desktop/pyICM/code\n",
      "Adding to the system path\n",
      "Successfully imported all Modules\n"
     ]
    }
   ],
   "source": [
    "import os\n",
    "import sys\n",
    "# Find where we are on the computer and make sure it is the pyICM directory\n",
    "HomeDir = os.path.expanduser('~')  # get the home directory\n",
    "\n",
    "ICMDir = HomeDir + \"/Desktop/pyICM\"\n",
    "# Navigate to the home directory\n",
    "os.chdir(ICMDir)\n",
    "print('Moved to Directory',ICMDir)\n",
    "\n",
    "module_path = os.path.join(ICMDir,'code')\n",
    "print('Code Directory is',module_path)\n",
    "print('Adding to the system path')\n",
    "if module_path not in sys.path:\n",
    "    sys.path.append(module_path)\n",
    "    # Common python libraries needed for this code\n",
    "import numpy as np\n",
    "import matplotlib.pyplot as plt\n",
    "import pandas as pd\n",
    "# IMPORT ALL OF THE LIBRARIES AND FILES USED FOR ICM\n",
    "import Density\n",
    "import functions\n",
    "import DefVars as dv\n",
    "import Light\n",
    "import Sediment as sed\n",
    "import Nutrients as nt\n",
    "import DOM\n",
    "import POM\n",
    "import Algae\n",
    "import Oxygen\n",
    "import glob\n",
    "    \n",
    "print('Successfully imported all Modules')"
   ]
  },
  {
   "cell_type": "code",
   "execution_count": 25,
   "id": "1ded9d20",
   "metadata": {},
   "outputs": [
    {
     "name": "stdout",
     "output_type": "stream",
     "text": [
      "These are the following files available\n",
      "1 .  CB1.1\n",
      "2 .  CB2.1\n",
      "3 .  CB2.2\n",
      "4 .  CB3.1\n",
      "5 .  CB3.2\n",
      "6 .  CB3.3C\n",
      "7 .  CB4.1C\n",
      "8 .  CB4.2C\n",
      "9 .  CB4.3C\n",
      "10 .  CB4.4\n",
      "11 .  CB5.1\n",
      "12 .  CB5.2\n",
      "13 .  CB5.3\n",
      "14 .  CB5.4\n",
      "15 .  CB5.5\n",
      "16 .  CB6.1\n",
      "17 .  CB6.2\n",
      "18 .  CB6.3\n",
      "19 .  CB6.4\n",
      "20 .  CB7.1\n",
      "21 .  CB7.2\n",
      "22 .  CB7.3\n",
      "23 .  CB7.4\n",
      "24 .  CB8.1\n",
      "Which station file from the list would you like to run?\n",
      "'Enter number here ---> 1\n",
      "File Selected is -->  /Users/jbclark8/Desktop/pyICM/Inputs/Chesapeake/CBP/CB1.1_Climatology.csv\n"
     ]
    }
   ],
   "source": [
    "WhichData = 'Chesapeake'\n",
    "StatDir = ICMDir+\"/Inputs/\"+WhichData\n",
    "\n",
    "StatFiles = sorted(glob.glob(StatDir+\"/CBP/*.csv\"))\n",
    "\n",
    "print(\"These are the following files available\")\n",
    "\n",
    "# Show all available files\n",
    "ii = 0\n",
    "for ff in StatFiles:\n",
    "    f1 = ff.split('/')\n",
    "    f1 = f1[len(f1)-1]\n",
    "    f1 = f1.split(\"_\")\n",
    "\n",
    "    print(ii+1, \". \", f1[0])\n",
    "\n",
    "    ii = ii+1\n",
    "\n",
    "fnum = int(input(\"Which station file from the list would you like to run?\"\n",
    "                 \"\\n'\"\n",
    "                 \"Enter number here ---> \"))\n",
    "\n",
    "WQ_fname = StatFiles[fnum-1]\n",
    "print(\"File Selected is --> \", WQ_fname)"
   ]
  },
  {
   "cell_type": "code",
   "execution_count": 26,
   "id": "b90c4109",
   "metadata": {
    "scrolled": true
   },
   "outputs": [
    {
     "name": "stdout",
     "output_type": "stream",
     "text": [
      "Hello! Welcome to ICM.\n",
      "This current version is for Chesapeake Bay\n",
      "Station data is read variables are dynamically calculated. This is version 0.1\n"
     ]
    }
   ],
   "source": [
    "print(\"Hello! Welcome to ICM.\" \"\\n\"\n",
    "      \"This current version is for Chesapeake Bay\" \"\\n\"\n",
    "      \"Station data is read variables are dynamically calculated. This is version 0.1\")\n",
    "\n",
    "WhichData = 'Chesapeake'\n",
    "StatDir = ICMDir+\"/Inputs/\"+WhichData"
   ]
  },
  {
   "cell_type": "code",
   "execution_count": 27,
   "id": "6faa8b73",
   "metadata": {
    "scrolled": true
   },
   "outputs": [],
   "source": [
    "# get the station name from the file name, to match the weather data\n",
    "Fin = WQ_fname.split('/')\n",
    "Fin = Fin[len(Fin)-1]\n",
    "Fin = Fin.split('_')\n",
    "StatName = Fin[0]\n",
    "\n",
    "LAT = 38\n",
    "LON = -76\n",
    "yy = 2020"
   ]
  },
  {
   "cell_type": "code",
   "execution_count": 28,
   "id": "458efdc5",
   "metadata": {
    "scrolled": true
   },
   "outputs": [],
   "source": [
    "# read in the time series data  of water quality inputs\n",
    "myTS = pd.read_csv(WQ_fname)\n",
    "\n",
    "# read in spectral information for light attenuation\n",
    "Light_fname = StatDir + \"/CBay_Spectral.csv\"\n",
    "myLT = pd.read_csv(Light_fname)\n",
    "\n",
    "# read in surface forcing information for light and weather\n",
    "weather_fname = StatDir+\"/Weather/\"+StatName+\"_Weather.csv\"\n",
    "mySFC = pd.read_csv(weather_fname)"
   ]
  },
  {
   "cell_type": "code",
   "execution_count": 29,
   "id": "937c9f78",
   "metadata": {
    "scrolled": true
   },
   "outputs": [
    {
     "name": "stdout",
     "output_type": "stream",
     "text": [
      "All global variables have been defined\n"
     ]
    }
   ],
   "source": [
    "errorcode = dv.InitializeVariables()\n",
    "if(errorcode == 1):\n",
    "    print('All variables were not defined, there is a problem and ICM is\\\n",
    "          stopping')\n",
    "elif(errorcode == 0):\n",
    "    print('All global variables have been defined')"
   ]
  },
  {
   "cell_type": "markdown",
   "id": "ba5933f3",
   "metadata": {},
   "source": [
    "# First we have to define the space and time dimensions\n",
    "# We can change the spatial dimensions if need be, by default\n",
    "# the are 10 km x 10 km x 10 m\n",
    "# dv is the DefVars module which contains the values for all of the global\n",
    "# parameters. In there the user can find many parameters of interest."
   ]
  },
  {
   "cell_type": "code",
   "execution_count": 30,
   "id": "60811e98",
   "metadata": {
    "scrolled": true
   },
   "outputs": [
    {
     "name": "stdout",
     "output_type": "stream",
     "text": [
      "X=  10000.0  m, Y=  10000.0  m, Z=  10.0  m \n",
      "Volume = 1.0 km^3\n",
      "Start and End Days are =  1.0 365.0\n"
     ]
    }
   ],
   "source": [
    "print('X= ',dv.X, ' m, Y= ', dv.Y,' m, Z= ',dv.Z,' m ')\n",
    "# calculate the domain volume, specified in DefVars\n",
    "Volume = functions.CalcVolume(dv.X, dv.Y, dv.Z)\n",
    "print('Volume =', Volume*1e-9, 'km^3')\n",
    "\n",
    "# now set up the time vector for integration, using the forcing file time\n",
    "modtimein = myTS.Time\n",
    "lasttime = modtimein[len(modtimein)-1]\n",
    "print('Start and End Days are = ', modtimein[0]/86400, lasttime/86400)"
   ]
  },
  {
   "cell_type": "code",
   "execution_count": 31,
   "id": "cd7beb96",
   "metadata": {
    "scrolled": true
   },
   "outputs": [
    {
     "name": "stdout",
     "output_type": "stream",
     "text": [
      "My Time Step is =  3600.0 Seconds\n"
     ]
    }
   ],
   "source": [
    "# set the time step here\n",
    "DT = 3600.\n",
    "Nsteps = int(lasttime/DT)\n",
    "# now set up a time array with the appropriate time step\n",
    "modtime = np.linspace(modtimein[0], lasttime, Nsteps)\n",
    "current_time = modtime[0]\n",
    "\n",
    "print('My Time Step is = ', DT, 'Seconds')\n",
    "#total number of time steps\n",
    "mylen = len(modtime)"
   ]
  },
  {
   "cell_type": "markdown",
   "id": "69abd7ce",
   "metadata": {},
   "source": [
    "# Now we will read in the station data as \"River\" forcing\n",
    "# the weather data as the surface forcing\n",
    "# and the spectral parameterization for the light calculations\n",
    "\n",
    "# Some suggested experiments are \n",
    "# Change the river input flow (static currently)\n",
    "# Change the river input concentrations\n",
    "# The river input temperature\n",
    "# The wind velocity\n",
    "# Or the surface temperature"
   ]
  },
  {
   "cell_type": "code",
   "execution_count": 32,
   "id": "43fd340c",
   "metadata": {
    "scrolled": true
   },
   "outputs": [],
   "source": [
    "# RIVER FLOW\n",
    "Q = np.ones(mylen)*500.\n",
    "# RIVER INPUTS\n",
    "# Water Temperature\n",
    "Tin = myTS.WTEMP\n",
    "# Water Salinity\n",
    "Sin = myTS.SALINITY\n",
    "# Nitrogen\n",
    "RivNH4in = myTS.NH4F\n",
    "RivNO3in = myTS.NO23F\n",
    "# Convert upstream chl a concentration into algae 1 and 2 carbon\n",
    "RivAlgae1in = myTS.CHLA*0.5*dv.cchla1*1e-3\n",
    "RivAlgae2in = myTS.CHLA*0.5*dv.cchla1*1e-3\n",
    "# calculate the change in concentration due to river inputs\n",
    "RiverISSin = myTS.TSS"
   ]
  },
  {
   "cell_type": "code",
   "execution_count": 45,
   "id": "81c0612c",
   "metadata": {
    "scrolled": true
   },
   "outputs": [
    {
     "data": {
      "image/png": "[encoded data removed]",
      "text/plain": [
       "<Figure size 432x288 with 2 Axes>"
      ]
     },
     "metadata": {
      "needs_background": "light"
     },
     "output_type": "display_data"
    },
    {
     "data": {
      "image/png": "[encoded data removed]",
      "text/plain": [
       "<Figure size 432x288 with 2 Axes>"
      ]
     },
     "metadata": {
      "needs_background": "light"
     },
     "output_type": "display_data"
    },
    {
     "data": {
      "image/png": "[encoded data removed]",
      "text/plain": [
       "<Figure size 432x288 with 2 Axes>"
      ]
     },
     "metadata": {
      "needs_background": "light"
     },
     "output_type": "display_data"
    }
   ],
   "source": [
    "# Make a Figures Directory if not Exist\n",
    "OutDir = ICMDir + \"/Outputs\"\n",
    "FDir = OutDir + '/Figures'\n",
    "\n",
    "if not os.path.isdir(OutDir):\n",
    "    path = os.path.join(ICMDir, 'Outputs')\n",
    "    os.mkdir(path)\n",
    "\n",
    "if not os.path.isdir(FDir):\n",
    "    path = os.path.join(OutDir, 'Figures')\n",
    "    os.mkdir(path)\n",
    "#now we can plot some of these forcings\n",
    "# \n",
    "Fig1,(ax1,ax2)=plt.subplots(2)\n",
    "ax1.plot(modtimein/86400,Tin)\n",
    "ax1.set(xlabel='Days')\n",
    "ax1.set(ylabel='Temperature (°C)')\n",
    "ax2.plot(modtimein/86400,Sin)\n",
    "ax2.set(xlabel='Days')\n",
    "ax2.set(ylabel='Salinity')\n",
    "plt.savefig(FDir + '/' + StatName + '_Forcing_TandS.png')\n",
    "plt.show()\n",
    "Fig1,(ax1,ax2)=plt.subplots(2)\n",
    "ax1.plot(modtimein/86400,RivNH4in)\n",
    "ax1.set(xlabel='Days')\n",
    "ax1.set(ylabel='NH4 (g N $m{^-3})$')\n",
    "ax2.plot(modtimein/86400,RivNO3in)\n",
    "ax2.set(xlabel='Days')\n",
    "ax2.set(ylabel='NO3 (g N $m{^-3})$')\n",
    "plt.savefig(FDir + '/' +  StatName + '_Forcing_InorganicNitrogen.png')\n",
    "plt.show()\n",
    "Fig1,(ax1,ax2)=plt.subplots(2)\n",
    "ax1.plot(modtimein/86400,myTS.CHLA)\n",
    "ax1.set(xlabel='Days')\n",
    "ax1.set(ylabel='Algae chl a (mg $m{^-3})$')\n",
    "ax2.plot(modtimein/86400,myTS.TSS)\n",
    "ax2.set(xlabel='Days')\n",
    "ax2.set(ylabel='TSS (g $m{^-3})$')\n",
    "plt.savefig(FDir + '/' + StatName + '_Forcing_ChlaandTSS.png')\n",
    "plt.show()\n"
   ]
  },
  {
   "cell_type": "code",
   "execution_count": 46,
   "id": "6b29663e",
   "metadata": {
    "scrolled": true
   },
   "outputs": [],
   "source": [
    "# SURFACE FORCING\n",
    "# wind velocity\n",
    "Uin = mySFC.uwnd[0:365]\n",
    "Vin = mySFC.vwnd[0:365]\n",
    "# total downwelling shortwave flux and scale by 0.43 to remove IR\n",
    "EdIn = mySFC.dswrf*0.43"
   ]
  },
  {
   "cell_type": "code",
   "execution_count": 47,
   "id": "e2214521",
   "metadata": {
    "scrolled": true
   },
   "outputs": [],
   "source": [
    "# LIGHT PARAMETERS\n",
    "# wavelengths, nm\n",
    "WL = myLT.Lambda\n",
    "# absorption due to water, m^-1\n",
    "aWater = myLT.aW\n",
    "# mass specific absorption for each colored DOC, m^2 gC^-1\n",
    "aC1 = myLT.aCDOC1\n",
    "aC2 = myLT.aCDOC2\n",
    "aC3 = myLT.aCDOC3\n",
    "# take the averge for now\n",
    "aCDOC = np.average(np.column_stack((aC1, aC2, aC3)), 1)\n",
    "# mass specific absorption due to chla, m^2 mg chla^-1\n",
    "aPhi = myLT.aPhi\n",
    "# mass specific absorption due to particles, m^2 g^-1\n",
    "aP = myLT.aP\n",
    "# mass specific backscattering due to particles, m^2 g^-1\n",
    "bbP = myLT.bbp\n",
    "# spectral distribution of light, nm^-1\n",
    "SpecDis = myLT.Spec_dist"
   ]
  },
  {
   "cell_type": "code",
   "execution_count": 48,
   "id": "028b8f6a",
   "metadata": {
    "scrolled": true
   },
   "outputs": [],
   "source": [
    "# plt.plot(WL,aWater,label=\"aWater\")\n",
    "# plt.plot(WL,aPhi,label=\"a*Phi\")\n",
    "# plt.plot(WL,bbP,label=\"bb*p\")\n",
    "# plt.plot(WL,aP,label=\"a*P\")\n",
    "# plt.xlabel('Wavelength (nm)')\n",
    "# plt.ylabel('a*')\n",
    "# plt.legend()\n",
    "# plt.show()\n",
    "# plt.plot(WL,aC1,label=\"a*CDOC1\")\n",
    "# plt.plot(WL,aC2,label=\"a*CDOC2\")\n",
    "# plt.plot(WL,aC3,label=\"a*CDOC3\")\n",
    "# plt.legend()\n",
    "# plt.xlabel('Wavelength (nm)')\n",
    "# plt.ylabel('a*C (m^2/gC)')\n",
    "# plt.show()\n",
    "# plt.plot(WL,SpecDis)\n",
    "# plt.xlabel('Wavelength (nm)')\n",
    "# plt.ylabel('Spectral Distribution')"
   ]
  },
  {
   "cell_type": "code",
   "execution_count": 49,
   "id": "b0a72603",
   "metadata": {
    "scrolled": true
   },
   "outputs": [],
   "source": [
    "# interpolate all forcing to the model time step\n",
    "T = np.interp(modtime, modtimein, Tin)\n",
    "S = np.interp(modtime, modtimein, Sin)\n",
    "Speed = np.sqrt(Uin ** 2 + Vin ** 2)\n",
    "Uwind = np.interp(modtime, modtimein, Speed)\n",
    "\n",
    "RivNH4 = np.interp(modtime, modtimein, RivNH4in)\n",
    "RivNO3 = np.interp(modtime, modtimein, RivNO3in)\n",
    "RivAlgae1 = np.interp(modtime, modtimein, RivAlgae1in)\n",
    "RivAlgae1 = np.interp(modtime, modtimein, RivAlgae2in)\n",
    "RiverISS = np.interp(modtime, modtimein, RiverISSin)"
   ]
  },
  {
   "cell_type": "code",
   "execution_count": 50,
   "id": "e1e7d706",
   "metadata": {
    "scrolled": true
   },
   "outputs": [],
   "source": [
    "# %%%%%%%%%%%%%%%% INITIALIZE ALL WATER QUALITY VARIABLES %%%%%%%%%%%%%%%%%%\n",
    "# After running the model a few times, can take the last value and input here\n",
    "# phytoplankton 1 and 2 biomass (g C m^-3)\n",
    "B1 = np.zeros(mylen)\n",
    "B1[0] = 0.1\n",
    "B2 = np.zeros(mylen)\n",
    "B2[0] = 0.1\n",
    "\n",
    "# phytoplankton 1 and 2 chla\n",
    "# convert carbon to chla in micrograms L6-1\n",
    "chla1 = B1 / dv.cchla1 * 1e3\n",
    "chla2 = B2 / dv.cchla2 * 1e3\n",
    "chla = chla1 + chla2\n",
    "\n",
    "# #ammonium and nitrate concentration (g N m^-3)\n",
    "NH4 = np.zeros(mylen)\n",
    "NH4[0] = 0.05\n",
    "\n",
    "NO3 = np.zeros(mylen)\n",
    "NO3[0] = 1.2\n",
    "\n",
    "\n",
    "# dissolved oxygeen\n",
    "DO2 = np.zeros(mylen)\n",
    "DO2[0] = 10.0\n",
    "\n",
    "# temp var for DON remineralization\n",
    "MNLDON = 0.0\n",
    "\n",
    "# set up an array for KD, PAR, and NP_Total to collect and pass back to main\n",
    "# from the light attenuation function\n",
    "KD = np.zeros((mylen, len(WL)))\n",
    "PAR = np.zeros(mylen)\n",
    "KD_PAR = np.zeros(mylen)\n",
    "NP_total = np.zeros((mylen, len(WL)))\n",
    "Rrs_out = np.zeros((mylen, len(WL)))\n",
    "EdAvg = np.zeros((mylen, len(WL)))\n",
    "# now find where WL == 400 and WL == 700 to mark off the PAR\n",
    "dv.PAR_Id[0] = (np.abs(WL - 400.)).argmin()\n",
    "dv.PAR_Id[1] = (np.abs(WL - 700.)).argmin()\n",
    "\n",
    "# #colored and non-colored DOC concentration (g C m^-3)\n",
    "CDOC = np.ones(mylen)\n",
    "# NCDOC=np.zeros(mylen)\n",
    "MNLDOC = 0.0\n",
    "# #colored and non-colored DON concentration (g N m^-3)\n",
    "# CDON=np.zeros(mylen)\n",
    "# NCDON=np.zeros(mylen)\n",
    "\n",
    "# #Labile and Refractory POC and PON in g C and g N m^-3\n",
    "LPOC = np.zeros(mylen)\n",
    "LPOC[0] = 0.5\n",
    "RPOC = np.zeros(mylen)\n",
    "RPOC[0] = 1.0\n",
    "# LPON=np.zeros(mylen)\n",
    "# RPON=np.zeros(mylen)\n",
    "\n",
    "# inorganic suspended sediment (g m^-3)\n",
    "ISS = np.zeros(mylen)\n",
    "ISS[0] = 10.\n",
    "\n",
    "# TSS = np.zeros(mylen)\n",
    "TSS = ISS + (LPOC + RPOC) * 2.5\n",
    "\n",
    "# Phytoplankton Rate Variables\n",
    "SZA = np.zeros(mylen)\n",
    "SZAa = np.zeros(mylen)\n",
    "FI1 = np.zeros(mylen)\n",
    "FI2 = np.zeros(mylen)\n",
    "NL1 = np.zeros(mylen)\n",
    "NL2 = np.zeros(mylen)\n",
    "NPP1 = np.zeros(mylen)\n",
    "NPP2 = np.zeros(mylen)\n",
    "P1 = np.zeros(mylen)\n",
    "P2 = np.zeros(mylen)\n",
    "PR1 = np.zeros(mylen)\n",
    "PR2 = np.zeros(mylen)\n",
    "PN1 = np.zeros(mylen)\n",
    "PN2 = np.zeros(mylen)\n",
    "\n",
    "NT = np.zeros(mylen)"
   ]
  },
  {
   "cell_type": "markdown",
   "id": "9676dbea",
   "metadata": {},
   "source": [
    "# Now all variables are initialized and all forcing is specified\n",
    "# The main loop is ready to begin\n",
    "# The main loop calculates the change in concentration and the new concentration\n",
    "# over time at time interval DT\n",
    "# The model is integrated using simple Euler (forward) integration and \n",
    "# can therefore be unstable at longer time steps\n",
    "# A short time step is highly recommended\n",
    "# the model runs until it reaches the end of the river time series \n",
    "# and calls the functions within each module for each dynamic\n",
    "# water quality constituent"
   ]
  },
  {
   "cell_type": "code",
   "execution_count": 51,
   "id": "62ae248e",
   "metadata": {
    "scrolled": true
   },
   "outputs": [
    {
     "name": "stdout",
     "output_type": "stream",
     "text": [
      "Congratulations!!! \n",
      "Model run is complete, plotting some things now\n"
     ]
    }
   ],
   "source": [
    "\n",
    "i = 1\n",
    "# %%%%%%%%%%%%%%%%%%%%%%%%%%%%%%% BEGIN MAIN LOOP %%%%%%%%%%%%%%%%%%%%%%%%%%%%\n",
    "while current_time < modtime[len(modtime)-1]:\n",
    "\n",
    "    JDAY = current_time/86400\n",
    "    MyDay = np.floor(JDAY)\n",
    "\n",
    "    # calculate the total absorption and the total scattering\n",
    "    aTotal = (aWater + chla[i-1] * aPhi +\n",
    "              CDOC[i-1] * aCDOC +\n",
    "              TSS[i-1] * aP)\n",
    "    bTotal = TSS[i-1] * bbP\n",
    "    Ed = EdIn[MyDay] * SpecDis\n",
    "    # call the light attenuation functions\n",
    "    KD[(i-1, )], PAR[i-1], NP_total[(i-1, )], KD_PAR[i-1], \\\n",
    "        EdAvg[i-1], Rrs_out[(i-1, )], SZA[i-1], SZAa[i-1] = \\\n",
    "        Light.Light_Attenuation(WL, Ed,\n",
    "                                aTotal, bTotal, dv.Z*0.1,\n",
    "                                JDAY, LAT, LON, yy, T[i-1], S[i-1])\n",
    "\n",
    "    FRate = functions.CalcFlushingRate(Q[i-1], Volume)\n",
    "\n",
    "# calculate the change in concentration due to biogeochemical processes\n",
    "# first algal growth and death\n",
    "    Algae1 = Algae.DTB1(B1[i-1], NH4[i-1], NO3[i-1], T[i-1],\n",
    "                        PAR[i-1], FRate, RivAlgae1[i-1], Q[i-1], Volume)\n",
    "    Algae2 = Algae.DTB2(B2[i-1], NH4[i-1], NO3[i-1], T[i-1],\n",
    "                        PAR[i-1], FRate, RivAlgae1[i-1], Q[i-1], Volume)\n",
    "# get some of the algae rates\n",
    "    FI1[i] = Algae1.FI\n",
    "    FI2[i] = Algae2.FI\n",
    "    NL1[i] = Algae1.NL\n",
    "    NL2[i] = Algae2.NL\n",
    "    NPP1[i] = Algae1.NPP\n",
    "    NPP2[i] = Algae2.NPP\n",
    "    P1[i] = Algae1.P1\n",
    "    P2[i] = Algae2.P2\n",
    "    PR1[i] = Algae1.PR1\n",
    "    PR2[i] = Algae2.PR2\n",
    "    PN1[i] = Algae1.PN\n",
    "    PN2[i] = Algae2.PN\n",
    "\n",
    "# next inorganic nitrogen\n",
    "    NH4A = Algae1.NH4A+Algae2.NH4A\n",
    "    NO3A = Algae1.NO3A+Algae2.NO3A\n",
    "\n",
    "    DTNO3 = nt.DTNO3(NH4[i-1], NO3[i-1], T[i-1], DO2[i-1], NO3A,\n",
    "                     Q[i-1], Volume, FRate, RivNO3[i-1])\n",
    "    DTNH4 = nt.DTNH4(NH4[i-1], NO3[i-1], T[i-1], DO2[i-1], MNLDON,\n",
    "                     NH4A, Q[i-1], Volume, FRate, RivNH4[i-1])\n",
    "# nitrification\n",
    "    NT[i] = nt.Nitrification(NH4[i-1], T[i-1], DO2[i-1])\n",
    "\n",
    "# inorganic sediment\n",
    "    DTISS = sed.deltaISS(Q[i-1], Volume, FRate, RiverISS[i-1], ISS[i-1])\n",
    "\n",
    "# next calculate dissolved oxygen\n",
    "    DTDO2 = Oxygen.DOXG(DO2[i-1], T[i], S[i], dv.Z,\n",
    "                        PN1[i], PN2[i], P1[i], P2[i], PR1[i],\n",
    "                        PR2[i], B1[i], B2[i],\n",
    "                        NT[i], Uwind[i], MNLDOC, 0)\n",
    "\n",
    "    DO2[i] = DO2[i-1] + DTDO2*DT\n",
    "\n",
    "#  update the concentrations\n",
    "    ISS[i] = ISS[i-1]+DTISS*DT\n",
    "\n",
    "    B1[i] = B1[i-1]+Algae1.DTB1*DT\n",
    "    B2[i] = B2[i-1]+Algae2.DTB2*DT\n",
    "\n",
    "    chla1[i] = B1[i] / dv.cchla1 * 1e3\n",
    "    chla2[i] = B2[i] / dv.cchla2 * 1e3\n",
    "\n",
    "    chla[i] = chla1[i] + chla2[i]\n",
    "\n",
    "    NH4[i] = NH4[i-1]+DTNH4.DTNH4*DT\n",
    "    NO3[i] = NO3[i-1]+DTNO3.DTNO3*DT\n",
    "\n",
    "    TSS[i] = ISS[i] + B1[i] + B2[i] + (LPOC[i] + RPOC[i]) * 2.5\n",
    "\n",
    "# update the time\n",
    "    current_time = modtime[i]\n",
    "    i = i+1\n",
    "print('Congratulations!!!','\\n'\n",
    "'Model run is complete, plotting some things now')"
   ]
  },
  {
   "cell_type": "code",
   "execution_count": null,
   "id": "e7b0e177",
   "metadata": {
    "scrolled": true
   },
   "outputs": [],
   "source": [
    "\n",
    "\n",
    "# now make some plots of whatever you like and save to the Figures Directory\n",
    "# plt.plot(modtime/86400, ISS)\n",
    "# plt.xlabel('Time')\n",
    "# plt.ylabel('$ISS (g m^{-3})$')\n",
    "# plt.savefig(FDir + '/ISS_ts.png')\n",
    "# plt.show()\n",
    "\n",
    "plt.plot(modtime/86400, KD_PAR)\n",
    "plt.xlabel('Time')\n",
    "plt.ylabel('$Kd (m^{-1})$')\n",
    "plt.savefig(FDir + '/KDPAR_ts.png')\n",
    "plt.show()\n",
    "\n",
    "plt.plot(modtime/86400, 90-SZA)\n",
    "plt.xlabel('Time')\n",
    "plt.ylabel('$SZA(degrees)$')\n",
    "plt.savefig(FDir + '/SZA_ts.png')\n",
    "plt.show()\n",
    "\n",
    "\n",
    "plt.plot(modtime/86400, B1)\n",
    "plt.xlabel('Time')\n",
    "plt.ylabel('$Diatomss (gC m^{-3})$')\n",
    "plt.savefig(FDir + '/Algae1_ts.png')\n",
    "plt.show()\n",
    "\n",
    "plt.plot(modtime/86400, B2)\n",
    "plt.xlabel('Time')\n",
    "plt.ylabel('$Dinoflagellates (gC m^{-3})$')\n",
    "plt.savefig(FDir + '/Algae2_ts.png')\n",
    "plt.show()\n",
    "\n",
    "\n",
    "plt.plot(modtime/86400, NH4)\n",
    "plt.xlabel('Time')\n",
    "plt.ylabel('$NH4 (gNm^{-3})$')\n",
    "plt.savefig(FDir + '/NH4_ts.png')\n",
    "plt.show()\n",
    "\n",
    "plt.plot(modtime/86400, NO3)\n",
    "plt.xlabel('Time')\n",
    "plt.ylabel('$NO3 (gNm^{-3})$')\n",
    "plt.savefig(FDir + '/NO3_ts.png')\n",
    "plt.show()\n",
    "\n",
    "plt.plot(modtime/86400, DO2)\n",
    "plt.xlabel('Time')\n",
    "plt.ylabel('$O2 (g m^{-3})$')\n",
    "plt.savefig(FDir + '/DO2_ts.png')\n",
    "plt.show()\n",
    "\n",
    "# plt.plot(modtime/86400, NPP1)\n",
    "# plt.xlabel('Time')\n",
    "# plt.ylabel('$Algae 1 NPP (g C m^{-2} d^{-1})$')\n",
    "# plt.savefig(FDir + '/NPP_ts.png')\n",
    "# plt.show()\n",
    "\n",
    "# plt.plot(modtime/86400, NPP2)\n",
    "# plt.xlabel('Time')\n",
    "# plt.ylabel('$Algae 2 NPP (g C m^{-2} d^{-1})$')\n",
    "# plt.savefig(FDir + '/NPP_ts.png')\n",
    "# plt.show()\n",
    "\n",
    "\n",
    "print('Model Run is All Done, You Can Find Plots in the Outputs/Figures Directory')"
   ]
  },
  {
   "cell_type": "code",
   "execution_count": null,
   "id": "34cf35c7",
   "metadata": {
    "scrolled": true
   },
   "outputs": [],
   "source": [
    "#now reRun the code Again but we can change the model forcing\n",
    "# #first we will put the variables we care to a different array\n",
    "\n",
    "# # defined now as run a\n",
    "# B1_Base=B1\n",
    "# B2_Base=B2\n",
    "# NO3_Base=NO3\n",
    "# NH4_Base=NH4\n",
    "# NPP_Base=NPP1+NPP2\n",
    "# DO2_Base=DO2"
   ]
  },
  {
   "cell_type": "code",
   "execution_count": null,
   "id": "947b1d4a",
   "metadata": {
    "scrolled": true
   },
   "outputs": [],
   "source": [
    "# # %%%%%%%%%%%%%%%% INITIALIZE ALL WATER QUALITY VARIABLES %%%%%%%%%%%%%%%%%%\n",
    "# # After running the model a few times, can take the last value and input here\n",
    "# # phytoplankton 1 and 2 biomass (g C m^-3)\n",
    "# B1 = np.zeros(mylen)\n",
    "# B1[0] = 0.1\n",
    "# B2 = np.zeros(mylen)\n",
    "# B2[0] = 0.1\n",
    "\n",
    "# # phytoplankton 1 and 2 chla\n",
    "# # convert carbon to chla in micrograms L6-1\n",
    "# chla1 = B1 / dv.cchla1 * 1e3\n",
    "# chla2 = B2 / dv.cchla2 * 1e3\n",
    "# chla = chla1 + chla2\n",
    "\n",
    "# # #ammonium and nitrate concentration (g N m^-3)\n",
    "# NH4 = np.zeros(mylen)\n",
    "# NH4[0] = 0.05\n",
    "\n",
    "# NO3 = np.zeros(mylen)\n",
    "# NO3[0] = 0.1\n",
    "\n",
    "\n",
    "# # dissolved oxygeen\n",
    "# DO2 = np.zeros(mylen)\n",
    "# DO2[0] = 10.0\n",
    "\n",
    "# # temp var for DON remineralization\n",
    "# MNLDON = 0.0\n",
    "\n",
    "# # set up an array for KD, PAR, and NP_Total to collect and pass back to main\n",
    "# # from the light attenuation function\n",
    "# KD = np.zeros((mylen, len(WL)))\n",
    "# PAR = np.zeros(mylen)\n",
    "# KD_PAR = np.zeros(mylen)\n",
    "# NP_total = np.zeros((mylen, len(WL)))\n",
    "# EdAvg = np.zeros((mylen, len(WL)))\n",
    "# # now find where WL == 400 and WL == 700 to mark off the PAR\n",
    "# dv.PAR_Id[0] = (np.abs(WL - 400.)).argmin()\n",
    "# dv.PAR_Id[1] = (np.abs(WL - 700.)).argmin()\n",
    "\n",
    "# # #colored and non-colored DOC concentration (g C m^-3)\n",
    "# CDOC = np.ones(mylen)\n",
    "# # NCDOC=np.zeros(mylen)\n",
    "# MNLDOC = 0.0\n",
    "# # #colored and non-colored DON concentration (g N m^-3)\n",
    "# # CDON=np.zeros(mylen)\n",
    "# # NCDON=np.zeros(mylen)\n",
    "\n",
    "# # #Labile and Refractory POC and PON in g C and g N m^-3\n",
    "# LPOC = np.zeros(mylen)\n",
    "# LPOC[0] = 0.5\n",
    "# RPOC = np.zeros(mylen)\n",
    "# RPOC[0] = 1.0\n",
    "# # LPON=np.zeros(mylen)\n",
    "# # RPON=np.zeros(mylen)\n",
    "\n",
    "# # inorganic suspended sediment (g m^-3)\n",
    "# ISS = np.zeros(mylen)\n",
    "# ISS[0] = 10.\n",
    "\n",
    "# # TSS = np.zeros(mylen)\n",
    "# TSS = ISS + (LPOC + RPOC) * 2.5\n",
    "\n",
    "# # Phytoplankton Rate Variables\n",
    "# SZA = np.zeros(mylen)\n",
    "# FI1 = np.zeros(mylen)\n",
    "# FI2 = np.zeros(mylen)\n",
    "# NL1 = np.zeros(mylen)\n",
    "# NL2 = np.zeros(mylen)\n",
    "# NPP1 = np.zeros(mylen)\n",
    "# NPP2 = np.zeros(mylen)\n",
    "# P1 = np.zeros(mylen)\n",
    "# P2 = np.zeros(mylen)\n",
    "# PR1 = np.zeros(mylen)\n",
    "# PR2 = np.zeros(mylen)\n",
    "# PN1 = np.zeros(mylen)\n",
    "# PN2 = np.zeros(mylen)\n",
    "\n",
    "# NT = np.zeros(mylen)"
   ]
  },
  {
   "cell_type": "code",
   "execution_count": null,
   "id": "39656973",
   "metadata": {
    "scrolled": true
   },
   "outputs": [],
   "source": [
    "# now re-parameterize some of the Forcing\n",
    "# this will be an example of what happens if we cut \n",
    "# inorganic nitrogen input by 75%\n",
    "\n",
    "# RivNH4=RivNH4*0.25\n",
    "# RivNO3=RivNO3*0.25\n",
    "\n",
    "# # have to re-run the main code that integrates through time\n",
    "# current_time=modtime[0]\n",
    "# i = 1\n",
    "# # %%%%%%%%%%%%%%%%%%%%%%%%%%%%%%% BEGIN MAIN LOOP %%%%%%%%%%%%%%%%%%%%%%%%%%%%\n",
    "# while current_time < modtime[len(modtime)-1]:\n",
    "\n",
    "#     JDAY = current_time/86400\n",
    "#     MyDay = np.floor(JDAY)\n",
    "\n",
    "#     # calculate the total absorption and the total scattering\n",
    "#     aTotal = (aWater + chla[i-1] * aPhi +\n",
    "#               CDOC[i-1] * aCDOC +\n",
    "#               TSS[i-1] * aP)\n",
    "#     bTotal = TSS[i-1] * bbP\n",
    "\n",
    "#     # call the light attenuation functions\n",
    "#     KD[(i-1, )], PAR[i-1], NP_total[(i-1, )], KD_PAR[i-1], EdAvg[i-1, ] = \\\n",
    "#         Light.Light_Attenuation(WL, EdIn[MyDay],\n",
    "#                                 aTotal, bTotal, dv.Z*0.1,\n",
    "#                                 JDAY, LAT, LON, yy)\n",
    "\n",
    "#     FRate = functions.CalcFlushingRate(Q[i-1], Volume)\n",
    "\n",
    "# # calculate the change in concentration due to biogeochemical processes\n",
    "# # first algal growth and death\n",
    "#     Algae1 = Algae.DTB1(B1[i-1], NH4[i-1], NO3[i-1], T[i-1],\n",
    "#                         PAR[i-1], FRate, RivAlgae1[i-1], Q[i-1], Volume)\n",
    "#     Algae2 = Algae.DTB2(B2[i-1], NH4[i-1], NO3[i-1], T[i-1],\n",
    "#                         PAR[i-1], FRate, RivAlgae1[i-1], Q[i-1], Volume)\n",
    "# # get some of the algae rates\n",
    "#     FI1[i] = Algae1.FI\n",
    "#     FI2[i] = Algae2.FI\n",
    "#     NL1[i] = Algae1.NL\n",
    "#     NL2[i] = Algae2.NL\n",
    "#     NPP1[i] = Algae1.NPP\n",
    "#     NPP2[i] = Algae2.NPP\n",
    "#     P1[i] = Algae1.P1\n",
    "#     P2[i] = Algae2.P2\n",
    "#     PR1[i] = Algae1.PR1\n",
    "#     PR2[i] = Algae2.PR2\n",
    "#     PN1[i] = Algae1.PN\n",
    "#     PN2[i] = Algae2.PN\n",
    "\n",
    "# # next inorganic nitrogen\n",
    "#     NH4A = Algae1.NH4A+Algae2.NH4A\n",
    "#     NO3A = Algae1.NO3A+Algae2.NO3A\n",
    "\n",
    "#     DTNO3 = nt.DTNO3(NH4[i-1], NO3[i-1], T[i-1], DO2[i-1], NO3A,\n",
    "#                      Q[i-1], Volume, FRate, RivNO3[i-1])\n",
    "#     DTNH4 = nt.DTNH4(NH4[i-1], NO3[i-1], T[i-1], DO2[i-1], MNLDON,\n",
    "#                      NH4A, Q[i-1], Volume, FRate, RivNH4[i-1])\n",
    "# # nitrification\n",
    "#     NT[i] = nt.Nitrification(NH4[i-1], T[i-1], DO2[i-1])\n",
    "\n",
    "# # inorganic sediment\n",
    "#     DTISS = sed.deltaISS(Q[i-1], Volume, FRate, RiverISS[i-1], ISS[i-1])\n",
    "\n",
    "# # next calculate dissolved oxygen\n",
    "#     DTDO2 = Oxygen.DOXG(DO2[i-1], T[i], S[i], dv.Z,\n",
    "#                         PN1[i], PN2[i], P1[i], P2[i], PR1[i],\n",
    "#                         PR2[i], B1[i], B2[i],\n",
    "#                         NT[i], Uwind[i], MNLDOC, 0)\n",
    "\n",
    "#     DO2[i] = DO2[i-1] + DTDO2*DT\n",
    "\n",
    "# #  update the concentrations\n",
    "#     ISS[i] = ISS[i-1]+DTISS*DT\n",
    "\n",
    "#     B1[i] = B1[i-1]+Algae1.DTB1*DT\n",
    "#     B2[i] = B2[i-1]+Algae2.DTB2*DT\n",
    "\n",
    "#     chla1[i] = B1[i] / dv.cchla1 * 1e3\n",
    "#     chla2[i] = B2[i] / dv.cchla2 * 1e3\n",
    "\n",
    "#     chla[i] = chla1[i] + chla2[i]\n",
    "\n",
    "#     NH4[i] = NH4[i-1]+DTNH4.DTNH4*DT\n",
    "#     NO3[i] = NO3[i-1]+DTNO3.DTNO3*DT\n",
    "\n",
    "#     TSS[i] = ISS[i] + B1[i] + B2[i] + (LPOC[i] + RPOC[i]) * 2.5\n",
    "\n",
    "# # update the time\n",
    "#     current_time = modtime[i]\n",
    "#     i = i+1\n",
    "    \n",
    "# print('Congratulations!!!','\\n'\n",
    "# 'Model run is complete, plotting some things now')"
   ]
  },
  {
   "cell_type": "code",
   "execution_count": null,
   "id": "d8478f4b",
   "metadata": {
    "scrolled": true
   },
   "outputs": [],
   "source": [
    "# now plot the comparison between the baseline and the nutrient reduction\n",
    "# plt.plot(modtime/86400, (B1_Base+B2_Base),label=\"Baseline\")\n",
    "# plt.plot(modtime/86400, (B1+B2),label=\"75% decrease\")\n",
    "# plt.xlabel('Time')\n",
    "# plt.ylabel('$Algae (gC m^{-3})$')\n",
    "# plt.legend()\n",
    "# plt.savefig(FDir + '/Algae_comp_ts.png')\n",
    "# plt.show()\n",
    "\n",
    "\n",
    "# plt.plot(modtime/86400, DO2_Base,label=\"Baseline\")\n",
    "# plt.plot(modtime/86400, DO2,label=\"75% decrease\")\n",
    "# plt.xlabel('Time')\n",
    "# plt.ylabel('$O2 (g m^{-3})$')\n",
    "# plt.legend()\n",
    "# plt.savefig(FDir + '/DO2_comp_ts.png')\n",
    "# plt.show()\n",
    "\n",
    "# plt.plot(modtime/86400, (NH4_Base + NO3_Base),label=\"Baseline\")\n",
    "# plt.plot(modtime/86400, (NH4 + NO3),label=\"75% decrease\")\n",
    "# plt.xlabel('Time')\n",
    "# plt.ylabel('$DIN (g m^{-3})$')\n",
    "# plt.legend()\n",
    "# plt.savefig(FDir + '/DIN_comp_ts.png')\n",
    "# plt.show()\n",
    "\n",
    "# plt.plot(modtime/86400, NPP_Base ,label=\"Baseline\")\n",
    "# plt.plot(modtime/86400, NPP1 + NPP2,label=\"75% decrease\")\n",
    "# plt.xlabel('Time')\n",
    "# plt.ylabel('$NPP (g m^{-2} d^{-1})$')\n",
    "# plt.legend()\n",
    "# plt.savefig(FDir + '/NPP_comp_ts.png')\n",
    "# plt.show()\n",
    "\n"
   ]
  },
  {
   "cell_type": "code",
   "execution_count": null,
   "id": "d559437c",
   "metadata": {
    "scrolled": true
   },
   "outputs": [],
   "source": []
  },
  {
   "cell_type": "code",
   "execution_count": null,
   "id": "98395f42",
   "metadata": {
    "scrolled": true
   },
   "outputs": [],
   "source": []
  }
 ],
 "metadata": {
  "kernelspec": {
   "display_name": "Python 3 (ipykernel)",
   "language": "python",
   "name": "python3"
  },
  "language_info": {
   "codemirror_mode": {
    "name": "ipython",
    "version": 3
   },
   "file_extension": ".py",
   "mimetype": "text/x-python",
   "name": "python",
   "nbconvert_exporter": "python",
   "pygments_lexer": "ipython3",
   "version": "3.9.7"
  }
 },
 "nbformat": 4,
 "nbformat_minor": 5
}
